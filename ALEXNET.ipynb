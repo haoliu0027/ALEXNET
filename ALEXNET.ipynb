{
  "nbformat": 4,
  "nbformat_minor": 0,
  "metadata": {
    "colab": {
      "name": "ALEXNET.ipynb",
      "provenance": [],
      "authorship_tag": "ABX9TyODUM4h3N5uhleTBau3U+h2",
      "include_colab_link": true
    },
    "kernelspec": {
      "name": "python3",
      "display_name": "Python 3"
    },
    "accelerator": "GPU"
  },
  "cells": [
    {
      "cell_type": "markdown",
      "metadata": {
        "id": "view-in-github",
        "colab_type": "text"
      },
      "source": [
        "<a href=\"https://colab.research.google.com/github/haoliu0027/ALEXNET/blob/master/ALEXNET.ipynb\" target=\"_parent\"><img src=\"https://colab.research.google.com/assets/colab-badge.svg\" alt=\"Open In Colab\"/></a>"
      ]
    },
    {
      "cell_type": "markdown",
      "metadata": {
        "id": "oBjUu5Xzu8AZ",
        "colab_type": "text"
      },
      "source": [
        "Import the dataset"
      ]
    },
    {
      "cell_type": "code",
      "metadata": {
        "id": "2ytBCcZxu-16",
        "colab_type": "code",
        "colab": {
          "base_uri": "https://localhost:8080/",
          "height": 34
        },
        "outputId": "b52aedc8-b1d7-4102-b9a6-a999bc84d746"
      },
      "source": [
        "! git clone https://github.com/haoliu0027/ALEXNET.git"
      ],
      "execution_count": 1,
      "outputs": [
        {
          "output_type": "stream",
          "text": [
            "fatal: destination path 'ALEXNET' already exists and is not an empty directory.\n"
          ],
          "name": "stdout"
        }
      ]
    },
    {
      "cell_type": "code",
      "metadata": {
        "id": "x-ok-Vzqzg9z",
        "colab_type": "code",
        "colab": {
          "base_uri": "https://localhost:8080/",
          "height": 50
        },
        "outputId": "e0706fd1-2226-45a3-cf0d-38a8272a1887"
      },
      "source": [
        "!ls\n",
        "import os\n",
        "os.chdir('ALEXNET')\n",
        "!ls"
      ],
      "execution_count": 2,
      "outputs": [
        {
          "output_type": "stream",
          "text": [
            "ALEXNET  sample_data\n",
            "ALEXNET  flower_data  README.md\n"
          ],
          "name": "stdout"
        }
      ]
    },
    {
      "cell_type": "code",
      "metadata": {
        "id": "3V65XKn3zwDt",
        "colab_type": "code",
        "colab": {
          "base_uri": "https://localhost:8080/",
          "height": 134
        },
        "outputId": "8c37d515-0a77-423f-8760-4daf070bbd6c"
      },
      "source": [
        "!ls\n",
        "from shutil import copy\n",
        "import random\n",
        "\n",
        "\n",
        "def mkfile(file):\n",
        "    if not os.path.exists(file):\n",
        "        os.makedirs(file)\n",
        "\n",
        "\n",
        "file = 'flower_data/flower_photos'\n",
        "os.listdir(file)\n",
        "flower_class = [cla for cla in os.listdir(file) if \".txt\" not in cla]\n",
        "mkfile('flower_data/train')\n",
        "for cla in flower_class:\n",
        "    mkfile('flower_data/train/'+cla)\n",
        "\n",
        "mkfile('flower_data/val')\n",
        "for cla in flower_class:\n",
        "    mkfile('flower_data/val/'+cla)\n",
        "\n",
        "split_rate = 0.1\n",
        "for cla in flower_class:\n",
        "    cla_path = file + '/' + cla + '/'\n",
        "    images = os.listdir(cla_path)\n",
        "    num = len(images)\n",
        "    eval_index = random.sample(images, k=int(num*split_rate))\n",
        "    for index, image in enumerate(images):\n",
        "        if image in eval_index:\n",
        "            image_path = cla_path + image\n",
        "            new_path = 'flower_data/val/' + cla\n",
        "            copy(image_path, new_path)\n",
        "        else:\n",
        "            image_path = cla_path + image\n",
        "            new_path = 'flower_data/train/' + cla\n",
        "            copy(image_path, new_path)\n",
        "        print(\"\\r[{}] processing [{}/{}]\".format(cla, index+1, num), end=\"\")  # processing bar\n",
        "    print()\n",
        "\n",
        "print(\"processing done!\")"
      ],
      "execution_count": 3,
      "outputs": [
        {
          "output_type": "stream",
          "text": [
            "ALEXNET  flower_data  README.md\n",
            "[dandelion] processing [898/898]\n",
            "[sunflowers] processing [699/699]\n",
            "[roses] processing [641/641]\n",
            "[daisy] processing [633/633]\n",
            "[tulips] processing [799/799]\n",
            "processing done!\n"
          ],
          "name": "stdout"
        }
      ]
    },
    {
      "cell_type": "code",
      "metadata": {
        "id": "Dyg_w6KX3NZ7",
        "colab_type": "code",
        "colab": {}
      },
      "source": [
        "import torch.nn as nn\n",
        "import torch\n",
        "from torchvision import transforms, datasets, utils\n",
        "import matplotlib.pyplot as plt\n",
        "import numpy as np\n",
        "import torch.optim as optim\n",
        "import json\n",
        "import time\n",
        "from PIL import Image"
      ],
      "execution_count": 0,
      "outputs": []
    },
    {
      "cell_type": "code",
      "metadata": {
        "id": "aO_FsAgg03Dt",
        "colab_type": "code",
        "colab": {}
      },
      "source": [
        "class AlexNet(nn.Module):\n",
        "  def __init__(self, num_classes = 1000, init_weights = False):\n",
        "    super(AlexNet, self).__init__()\n",
        "    self.features = nn.Sequential(\n",
        "        nn.Conv2d(3, 48, 11, 4, 2),  #input[3, 224, 224]  output[48, 55, 55]\n",
        "        nn.ReLU(inplace=True),\n",
        "        nn.MaxPool2d(3, 2),       ## output[48, 27, 27]\n",
        "        nn.Conv2d(48, 128, kernel_size=5, padding=2),          # output[128, 27, 27]\n",
        "        nn.ReLU(inplace=True),\n",
        "        nn.MaxPool2d(kernel_size=3, stride=2),               # output[128, 13, 13]\n",
        "        nn.Conv2d(128, 192, kernel_size=3, padding=1),          # output[192, 13, 13]\n",
        "        nn.ReLU(inplace=True),\n",
        "        nn.Conv2d(192, 192, kernel_size=3, padding=1),          # output[192, 13, 13]\n",
        "        nn.ReLU(inplace=True),\n",
        "        nn.Conv2d(192, 128, kernel_size=3, padding=1),          # output[128, 13, 13]\n",
        "        nn.ReLU(inplace=True),\n",
        "        nn.MaxPool2d(kernel_size=3, stride=2),               # output[128, 6, 6]\n",
        "    )\n",
        "    self.classifier = nn.Sequential(\n",
        "      nn.Dropout(p=0.5),\n",
        "      nn.Linear(128 * 6 * 6, 2048),\n",
        "      nn.ReLU(inplace=True),\n",
        "      nn.Dropout(p=0.5),\n",
        "      nn.Linear(2048, 2048),\n",
        "      nn.ReLU(inplace=True),\n",
        "      nn.Linear(2048, num_classes),\n",
        "    )\n",
        "    if init_weights:\n",
        "      self._initialize_weights()\n",
        "  def forward(self, x):\n",
        "      x = self.features(x)\n",
        "      x = torch.flatten(x, start_dim=1)\n",
        "      x = self.classifier(x)\n",
        "      return x\n",
        "\n",
        "  def _initialize_weights(self):\n",
        "      for m in self.modules():\n",
        "          if isinstance(m, nn.Conv2d):\n",
        "              nn.init.kaiming_normal_(m.weight, mode='fan_out', nonlinearity='relu')\n",
        "              if m.bias is not None:\n",
        "                  nn.init.constant_(m.bias, 0)\n",
        "          elif isinstance(m, nn.Linear):\n",
        "              nn.init.normal_(m.weight, 0, 0.01)\n",
        "              nn.init.constant_(m.bias, 0)     "
      ],
      "execution_count": 0,
      "outputs": []
    },
    {
      "cell_type": "code",
      "metadata": {
        "id": "nY7YHvZV5jS_",
        "colab_type": "code",
        "colab": {
          "base_uri": "https://localhost:8080/",
          "height": 571
        },
        "outputId": "15edd4d0-55ed-4e0d-8def-bb81dd2ad215"
      },
      "source": [
        "device = torch.device(\"cuda:0\" if torch.cuda.is_available() else \"cpu\")\n",
        "print(device)\n",
        "\n",
        "data_transform = {\n",
        "    \"train\": transforms.Compose([transforms.RandomResizedCrop(224),\n",
        "                                 transforms.RandomHorizontalFlip(),\n",
        "                                 transforms.ToTensor(),\n",
        "                                 transforms.Normalize((0.5, 0.5, 0.5), (0.5, 0.5, 0.5))]),\n",
        "    \"val\": transforms.Compose([transforms.Resize((224, 224)),  # cannot 224, must (224, 224)\n",
        "                               transforms.ToTensor(),\n",
        "                               transforms.Normalize((0.5, 0.5, 0.5), (0.5, 0.5, 0.5))])}\n",
        "\n",
        "# data_root = os.path.abspath(os.path.join(os.getcwd(), \"../..\"))  # get data root path\n",
        "# image_path = data_root + \"ALEXNET/flower_data/\"  # flower data set path\n",
        "! ls \n",
        "\n",
        "train_dataset = datasets.ImageFolder(root=\"flower_data/train\", transform=data_transform[\"train\"])\n",
        "train_num = len(train_dataset)\n",
        "\n",
        "# {'daisy':0, 'dandelion':1, 'roses':2, 'sunflower':3, 'tulips':4}\n",
        "flower_list = train_dataset.class_to_idx\n",
        "cla_dict = dict((val, key) for key, val in flower_list.items())\n",
        "# write dict into json file\n",
        "json_str = json.dumps(cla_dict, indent=4)\n",
        "with open('class_indices.json', 'w') as json_file:\n",
        "    json_file.write(json_str)\n",
        "\n",
        "batch_size = 32\n",
        "train_loader = torch.utils.data.DataLoader(train_dataset,\n",
        "                                           batch_size=batch_size, shuffle=True,\n",
        "                                           num_workers=0)\n",
        "\n",
        "validate_dataset = datasets.ImageFolder(root= \"flower_data/val\",\n",
        "                                        transform=data_transform[\"val\"])\n",
        "val_num = len(validate_dataset)\n",
        "validate_loader = torch.utils.data.DataLoader(validate_dataset,\n",
        "                                              batch_size=4, shuffle=True,\n",
        "                                              num_workers=0)\n",
        "\n",
        "# test_data_iter = iter(validate_loader)\n",
        "# test_image, test_label = test_data_iter.next()\n",
        "#\n",
        "# def imshow(img):\n",
        "#     img = img / 2 + 0.5  # unnormalize\n",
        "#     npimg = img.numpy()\n",
        "#     plt.imshow(np.transpose(npimg, (1, 2, 0)))\n",
        "#     plt.show()\n",
        "#\n",
        "# print(' '.join('%5s' % cla_dict[test_label[j].item()] for j in range(4)))\n",
        "# imshow(utils.make_grid(test_image))\n",
        "\n",
        "\n",
        "net = AlexNet(num_classes=5, init_weights=True)\n",
        "\n",
        "net.to(device)\n",
        "loss_function = nn.CrossEntropyLoss()\n",
        "# pata = list(net.parameters())\n",
        "optimizer = optim.Adam(net.parameters(), lr=0.0002)\n",
        "\n",
        "save_path = './AlexNet.pth'\n",
        "best_acc = 0.0\n",
        "for epoch in range(10):\n",
        "    # train\n",
        "    net.train()\n",
        "    running_loss = 0.0\n",
        "    t1 = time.perf_counter()\n",
        "    for step, data in enumerate(train_loader, start=0):\n",
        "        images, labels = data\n",
        "        optimizer.zero_grad()\n",
        "        outputs = net(images.to(device))\n",
        "        loss = loss_function(outputs, labels.to(device))\n",
        "        loss.backward()\n",
        "        optimizer.step()\n",
        "\n",
        "        # print statistics\n",
        "        running_loss += loss.item()\n",
        "        # print train process\n",
        "        rate = (step + 1) / len(train_loader)\n",
        "        a = \"*\" * int(rate * 50)\n",
        "        b = \".\" * int((1 - rate) * 50)\n",
        "        print(\"\\rtrain loss: {:^3.0f}%[{}->{}]{:.3f}\".format(int(rate * 100), a, b, loss), end=\"\")\n",
        "    print()\n",
        "    print(time.perf_counter()-t1)\n",
        "\n",
        "    # validate\n",
        "    net.eval()\n",
        "    acc = 0.0  # accumulate accurate number / epoch\n",
        "    with torch.no_grad():\n",
        "        for val_data in validate_loader:\n",
        "            val_images, val_labels = val_data\n",
        "            outputs = net(val_images.to(device))\n",
        "            predict_y = torch.max(outputs, dim=1)[1]\n",
        "            acc += (predict_y == val_labels.to(device)).sum().item()\n",
        "        val_accurate = acc / val_num\n",
        "        if val_accurate > best_acc:\n",
        "            best_acc = val_accurate\n",
        "            torch.save(net.state_dict(), save_path)\n",
        "        print('[epoch %d] train_loss: %.3f  test_accuracy: %.3f' %\n",
        "              (epoch + 1, running_loss / step, val_accurate))\n",
        "\n",
        "print('Finished Training')"
      ],
      "execution_count": 6,
      "outputs": [
        {
          "output_type": "stream",
          "text": [
            "cuda:0\n",
            "ALEXNET  flower_data  README.md\n",
            "train loss: 100%[**************************************************->]1.257\n",
            "18.524198421000165\n",
            "[epoch 1] train_loss: 1.347  test_accuracy: 0.483\n",
            "train loss: 100%[**************************************************->]1.294\n",
            "18.475027768000018\n",
            "[epoch 2] train_loss: 1.179  test_accuracy: 0.538\n",
            "train loss: 100%[**************************************************->]1.035\n",
            "18.279473359999884\n",
            "[epoch 3] train_loss: 1.090  test_accuracy: 0.585\n",
            "train loss: 100%[**************************************************->]0.639\n",
            "18.392857188000107\n",
            "[epoch 4] train_loss: 1.007  test_accuracy: 0.652\n",
            "train loss: 100%[**************************************************->]0.982\n",
            "18.64149304600005\n",
            "[epoch 5] train_loss: 0.964  test_accuracy: 0.687\n",
            "train loss: 100%[**************************************************->]0.825\n",
            "18.399049004000062\n",
            "[epoch 6] train_loss: 0.921  test_accuracy: 0.691\n",
            "train loss: 100%[**************************************************->]0.703\n",
            "18.49583666699982\n",
            "[epoch 7] train_loss: 0.884  test_accuracy: 0.718\n",
            "train loss: 100%[**************************************************->]0.872\n",
            "18.407893713999783\n",
            "[epoch 8] train_loss: 0.865  test_accuracy: 0.724\n",
            "train loss: 100%[**************************************************->]0.786\n",
            "18.516274713000257\n",
            "[epoch 9] train_loss: 0.819  test_accuracy: 0.710\n",
            "train loss: 100%[**************************************************->]0.980\n",
            "18.46379019999995\n",
            "[epoch 10] train_loss: 0.803  test_accuracy: 0.759\n",
            "Finished Training\n"
          ],
          "name": "stdout"
        }
      ]
    },
    {
      "cell_type": "code",
      "metadata": {
        "id": "JZ6sQqal_3Tx",
        "colab_type": "code",
        "colab": {
          "base_uri": "https://localhost:8080/",
          "height": 302
        },
        "outputId": "3407d421-5970-4c76-b5f3-baeb5cf3bd78"
      },
      "source": [
        "data_transform = transforms.Compose(\n",
        "    [transforms.Resize((224, 224)),\n",
        "     transforms.ToTensor(),\n",
        "     transforms.Normalize((0.5, 0.5, 0.5), (0.5, 0.5, 0.5))])\n",
        "\n",
        "# load image\n",
        "! ls\n",
        "img = Image.open(\"flower_data/tulip.jpg\")\n",
        "plt.imshow(img)\n",
        "# [N, C, H, W]\n",
        "img = data_transform(img)\n",
        "# expand batch dimension\n",
        "img = torch.unsqueeze(img, dim=0)\n",
        "\n",
        "# read class_indict\n",
        "try:\n",
        "    json_file = open('./class_indices.json', 'r')\n",
        "    class_indict = json.load(json_file)\n",
        "except Exception as e:\n",
        "    print(e)\n",
        "    exit(-1)\n",
        "\n",
        "# create model\n",
        "model = AlexNet(num_classes=5)\n",
        "# load model weights\n",
        "model_weight_path = \"./AlexNet.pth\"\n",
        "model.load_state_dict(torch.load(model_weight_path))\n",
        "model.eval()\n",
        "with torch.no_grad():\n",
        "    # predict class\n",
        "    output = torch.squeeze(model(img))\n",
        "    predict = torch.softmax(output, dim=0)\n",
        "    predict_cla = torch.argmax(predict).numpy()\n",
        "print(class_indict[str(predict_cla)], predict[predict_cla].item())\n",
        "plt.show()"
      ],
      "execution_count": 8,
      "outputs": [
        {
          "output_type": "stream",
          "text": [
            "ALEXNET  AlexNet.pth  class_indices.json  flower_data  README.md\n",
            "roses 0.5532703995704651\n"
          ],
          "name": "stdout"
        },
        {
          "output_type": "display_data",
          "data": {
            "image/png": "[encoded data removed]",
            "text/plain": [
              "<Figure size 432x288 with 1 Axes>"
            ]
          },
          "metadata": {
            "tags": [],
            "needs_background": "light"
          }
        }
      ]
    }
  ]
}